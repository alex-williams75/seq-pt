{
 "cells": [
  {
   "cell_type": "markdown",
   "id": "2d5ec2f2-b52c-405d-8f51-b821da54d998",
   "metadata": {},
   "source": [
    "# Machine Learning for Prediciton of Bus Stop Demand\n",
    "This follows on from the SEQ analysis notebook found in this Github directory."
   ]
  },
  {
   "cell_type": "code",
   "execution_count": null,
   "id": "9d986c3c-573b-4cb4-9676-6d29099013e0",
   "metadata": {},
   "outputs": [],
   "source": [
    "import pandas as pd\n",
    "import xgboost as xgb\n",
    "from sklearn.model_selection import train_test_split\n",
    "from sk\n"
   ]
  }
 ],
 "metadata": {
  "kernelspec": {
   "display_name": "Python 3 (ipykernel)",
   "language": "python",
   "name": "python3"
  },
  "language_info": {
   "codemirror_mode": {
    "name": "ipython",
    "version": 3
   },
   "file_extension": ".py",
   "mimetype": "text/x-python",
   "name": "python",
   "nbconvert_exporter": "python",
   "pygments_lexer": "ipython3",
   "version": "3.11.7"
  }
 },
 "nbformat": 4,
 "nbformat_minor": 5
}
